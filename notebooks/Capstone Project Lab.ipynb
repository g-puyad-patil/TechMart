{
 "cells": [
  {
   "cell_type": "markdown",
   "id": "629f33bf",
   "metadata": {},
   "source": [
    "# Ungraded Lab: Capstone Project Lab"
   ]
  },
  {
   "cell_type": "markdown",
   "id": "b41a9018",
   "metadata": {},
   "source": [
    "## 📋 Overview \n",
    "Welcome to the Capstone Project Lab! In this comprehensive hands-on session, you'll apply all the SQL concepts you've learned throughout the course to analyze a complex dataset from TechMart, a growing retail chain. You'll clean data, write advanced queries, and produce a well-documented analysis report. This lab simulates real-world data analysis challenges, preparing you for your future career as a data scientist.\n",
    "\n",
    "## 🎯 Learning Outcomes\n",
    "By the end of this lab, you will be able to:\n",
    "- Clean and prepare complex datasets using SQL\n",
    "- Write advanced SQL queries involving subqueries, CTEs, and window functions\n",
    "- Perform comprehensive data analysis across multiple related tables\n",
    "- Leverage generative AI tools to optimize SQL queries and enhance performance\n",
    "- Produce a well-documented data analysis report\n",
    "\n",
    "\n",
    "## 📚 Dataset Information\n",
    "You'll be working with the <b>TechMart</b> dataset, which contains information about a retail chain's operations across North America and Europe. The dataset includes:\n",
    "- <b>Employee_Records:</b> Information about employees, their roles, and sales performance\n",
    "- <b>Product_Details:</b> Details about products, including categories and inventory\n",
    "- <b>Customer_Demographics:</b> Customer information and loyalty program status\n",
    "- <b>Sales_Transactions:</b> Transaction data linking customers, products, and employees\n"
   ]
  },
  {
   "cell_type": "markdown",
   "id": "ab983443",
   "metadata": {},
   "source": [
    "## 🖥️ Activities\n",
    "\n",
    "### Activity 1: Data Exploration and Cleaning \n",
    "\n",
    "Before diving into analysis, it's crucial to understand and clean our dataset. We'll start by examining each table and addressing any data quality issues."
   ]
  },
  {
   "cell_type": "markdown",
   "id": "86e171a5",
   "metadata": {},
   "source": [
    "<b>Step 1:</b> Connect to the database, then load and display tables:"
   ]
  },
  {
   "cell_type": "code",
   "execution_count": 1,
   "id": "90892f54",
   "metadata": {},
   "outputs": [
    {
     "name": "stdout",
     "output_type": "stream",
     "text": [
      "✅ Database setup complete: Tables created and populated with data!\n",
      "\n",
      "Employee_Records:\n"
     ]
    },
    {
     "data": {
      "text/html": [
       "<div>\n",
       "<style scoped>\n",
       "    .dataframe tbody tr th:only-of-type {\n",
       "        vertical-align: middle;\n",
       "    }\n",
       "\n",
       "    .dataframe tbody tr th {\n",
       "        vertical-align: top;\n",
       "    }\n",
       "\n",
       "    .dataframe thead th {\n",
       "        text-align: right;\n",
       "    }\n",
       "</style>\n",
       "<table border=\"1\" class=\"dataframe\">\n",
       "  <thead>\n",
       "    <tr style=\"text-align: right;\">\n",
       "      <th></th>\n",
       "      <th>employee_id</th>\n",
       "      <th>role</th>\n",
       "      <th>store_location</th>\n",
       "      <th>sales_performance</th>\n",
       "    </tr>\n",
       "  </thead>\n",
       "  <tbody>\n",
       "    <tr>\n",
       "      <th>0</th>\n",
       "      <td>1</td>\n",
       "      <td>Cashier</td>\n",
       "      <td>New York</td>\n",
       "      <td>None</td>\n",
       "    </tr>\n",
       "    <tr>\n",
       "      <th>1</th>\n",
       "      <td>2</td>\n",
       "      <td>Cashier</td>\n",
       "      <td>Los Angeles</td>\n",
       "      <td>3000</td>\n",
       "    </tr>\n",
       "    <tr>\n",
       "      <th>2</th>\n",
       "      <td>3</td>\n",
       "      <td>Supervisor</td>\n",
       "      <td>Phoenix</td>\n",
       "      <td>None</td>\n",
       "    </tr>\n",
       "    <tr>\n",
       "      <th>3</th>\n",
       "      <td>4</td>\n",
       "      <td>Manager</td>\n",
       "      <td>Chicago</td>\n",
       "      <td>3000</td>\n",
       "    </tr>\n",
       "    <tr>\n",
       "      <th>4</th>\n",
       "      <td>5</td>\n",
       "      <td>Manager</td>\n",
       "      <td>Phoenix</td>\n",
       "      <td>3000</td>\n",
       "    </tr>\n",
       "  </tbody>\n",
       "</table>\n",
       "</div>"
      ],
      "text/plain": [
       "   employee_id        role store_location sales_performance\n",
       "0            1     Cashier       New York              None\n",
       "1            2     Cashier    Los Angeles              3000\n",
       "2            3  Supervisor        Phoenix              None\n",
       "3            4     Manager        Chicago              3000\n",
       "4            5     Manager        Phoenix              3000"
      ]
     },
     "metadata": {},
     "output_type": "display_data"
    },
    {
     "name": "stdout",
     "output_type": "stream",
     "text": [
      "\n",
      "Product_Details:\n"
     ]
    },
    {
     "data": {
      "text/html": [
       "<div>\n",
       "<style scoped>\n",
       "    .dataframe tbody tr th:only-of-type {\n",
       "        vertical-align: middle;\n",
       "    }\n",
       "\n",
       "    .dataframe tbody tr th {\n",
       "        vertical-align: top;\n",
       "    }\n",
       "\n",
       "    .dataframe thead th {\n",
       "        text-align: right;\n",
       "    }\n",
       "</style>\n",
       "<table border=\"1\" class=\"dataframe\">\n",
       "  <thead>\n",
       "    <tr style=\"text-align: right;\">\n",
       "      <th></th>\n",
       "      <th>product_id</th>\n",
       "      <th>product_name</th>\n",
       "      <th>category</th>\n",
       "      <th>price</th>\n",
       "      <th>stock</th>\n",
       "    </tr>\n",
       "  </thead>\n",
       "  <tbody>\n",
       "    <tr>\n",
       "      <th>0</th>\n",
       "      <td>106</td>\n",
       "      <td>Tablet</td>\n",
       "      <td>Electronics</td>\n",
       "      <td>one hundred</td>\n",
       "      <td>200.0</td>\n",
       "    </tr>\n",
       "    <tr>\n",
       "      <th>1</th>\n",
       "      <td>101</td>\n",
       "      <td>Keyboard</td>\n",
       "      <td>Accessories</td>\n",
       "      <td>fifty</td>\n",
       "      <td>100.0</td>\n",
       "    </tr>\n",
       "    <tr>\n",
       "      <th>2</th>\n",
       "      <td>108</td>\n",
       "      <td>Keyboard</td>\n",
       "      <td>Accessories</td>\n",
       "      <td>fifty</td>\n",
       "      <td>500.0</td>\n",
       "    </tr>\n",
       "    <tr>\n",
       "      <th>3</th>\n",
       "      <td>104</td>\n",
       "      <td>Speaker</td>\n",
       "      <td>Electronics</td>\n",
       "      <td>500</td>\n",
       "      <td>150.0</td>\n",
       "    </tr>\n",
       "    <tr>\n",
       "      <th>4</th>\n",
       "      <td>107</td>\n",
       "      <td>Speaker</td>\n",
       "      <td>Electronics</td>\n",
       "      <td>fifty</td>\n",
       "      <td>300.0</td>\n",
       "    </tr>\n",
       "  </tbody>\n",
       "</table>\n",
       "</div>"
      ],
      "text/plain": [
       "   product_id product_name     category        price  stock\n",
       "0         106       Tablet  Electronics  one hundred  200.0\n",
       "1         101     Keyboard  Accessories        fifty  100.0\n",
       "2         108     Keyboard  Accessories        fifty  500.0\n",
       "3         104      Speaker  Electronics          500  150.0\n",
       "4         107      Speaker  Electronics        fifty  300.0"
      ]
     },
     "metadata": {},
     "output_type": "display_data"
    },
    {
     "name": "stdout",
     "output_type": "stream",
     "text": [
      "\n",
      "Customer_Demographics:\n"
     ]
    },
    {
     "data": {
      "text/html": [
       "<div>\n",
       "<style scoped>\n",
       "    .dataframe tbody tr th:only-of-type {\n",
       "        vertical-align: middle;\n",
       "    }\n",
       "\n",
       "    .dataframe tbody tr th {\n",
       "        vertical-align: top;\n",
       "    }\n",
       "\n",
       "    .dataframe thead th {\n",
       "        text-align: right;\n",
       "    }\n",
       "</style>\n",
       "<table border=\"1\" class=\"dataframe\">\n",
       "  <thead>\n",
       "    <tr style=\"text-align: right;\">\n",
       "      <th></th>\n",
       "      <th>customer_id</th>\n",
       "      <th>age</th>\n",
       "      <th>gender</th>\n",
       "      <th>location</th>\n",
       "      <th>loyalty_program</th>\n",
       "    </tr>\n",
       "  </thead>\n",
       "  <tbody>\n",
       "    <tr>\n",
       "      <th>0</th>\n",
       "      <td>1</td>\n",
       "      <td>35</td>\n",
       "      <td>F</td>\n",
       "      <td>San Antonio</td>\n",
       "      <td>None</td>\n",
       "    </tr>\n",
       "    <tr>\n",
       "      <th>1</th>\n",
       "      <td>2</td>\n",
       "      <td>50</td>\n",
       "      <td>M</td>\n",
       "      <td>London</td>\n",
       "      <td>No</td>\n",
       "    </tr>\n",
       "    <tr>\n",
       "      <th>2</th>\n",
       "      <td>3</td>\n",
       "      <td>37</td>\n",
       "      <td>M</td>\n",
       "      <td>Austin</td>\n",
       "      <td>No</td>\n",
       "    </tr>\n",
       "    <tr>\n",
       "      <th>3</th>\n",
       "      <td>4</td>\n",
       "      <td>None</td>\n",
       "      <td>M</td>\n",
       "      <td>San Antonio</td>\n",
       "      <td>None</td>\n",
       "    </tr>\n",
       "    <tr>\n",
       "      <th>4</th>\n",
       "      <td>5</td>\n",
       "      <td>28</td>\n",
       "      <td>M</td>\n",
       "      <td>San Antonio</td>\n",
       "      <td>None</td>\n",
       "    </tr>\n",
       "  </tbody>\n",
       "</table>\n",
       "</div>"
      ],
      "text/plain": [
       "   customer_id   age gender     location loyalty_program\n",
       "0            1    35      F  San Antonio            None\n",
       "1            2    50      M       London              No\n",
       "2            3    37      M       Austin              No\n",
       "3            4  None      M  San Antonio            None\n",
       "4            5    28      M  San Antonio            None"
      ]
     },
     "metadata": {},
     "output_type": "display_data"
    },
    {
     "name": "stdout",
     "output_type": "stream",
     "text": [
      "\n",
      "Sales_Transactions:\n"
     ]
    },
    {
     "data": {
      "text/html": [
       "<div>\n",
       "<style scoped>\n",
       "    .dataframe tbody tr th:only-of-type {\n",
       "        vertical-align: middle;\n",
       "    }\n",
       "\n",
       "    .dataframe tbody tr th {\n",
       "        vertical-align: top;\n",
       "    }\n",
       "\n",
       "    .dataframe thead th {\n",
       "        text-align: right;\n",
       "    }\n",
       "</style>\n",
       "<table border=\"1\" class=\"dataframe\">\n",
       "  <thead>\n",
       "    <tr style=\"text-align: right;\">\n",
       "      <th></th>\n",
       "      <th>transaction_id</th>\n",
       "      <th>customer_id</th>\n",
       "      <th>product_id</th>\n",
       "      <th>employee_id</th>\n",
       "      <th>quantity</th>\n",
       "      <th>total_amount</th>\n",
       "      <th>sale_date</th>\n",
       "    </tr>\n",
       "  </thead>\n",
       "  <tbody>\n",
       "    <tr>\n",
       "      <th>0</th>\n",
       "      <td>1</td>\n",
       "      <td>13.0</td>\n",
       "      <td>105</td>\n",
       "      <td>2.0</td>\n",
       "      <td>4</td>\n",
       "      <td>90.0</td>\n",
       "      <td>2025-03-03 00:00:00</td>\n",
       "    </tr>\n",
       "    <tr>\n",
       "      <th>1</th>\n",
       "      <td>2</td>\n",
       "      <td>37.0</td>\n",
       "      <td>105</td>\n",
       "      <td>51.0</td>\n",
       "      <td>2</td>\n",
       "      <td>90.0</td>\n",
       "      <td>2025-03-08 00:00:00</td>\n",
       "    </tr>\n",
       "    <tr>\n",
       "      <th>2</th>\n",
       "      <td>3</td>\n",
       "      <td>5.0</td>\n",
       "      <td>106a</td>\n",
       "      <td>NaN</td>\n",
       "      <td>three</td>\n",
       "      <td>NaN</td>\n",
       "      <td>2025-03-01 00:00:00</td>\n",
       "    </tr>\n",
       "    <tr>\n",
       "      <th>3</th>\n",
       "      <td>4</td>\n",
       "      <td>35.0</td>\n",
       "      <td>109b</td>\n",
       "      <td>22.0</td>\n",
       "      <td>three</td>\n",
       "      <td>40.0</td>\n",
       "      <td>2025-03-04 00:00:00</td>\n",
       "    </tr>\n",
       "    <tr>\n",
       "      <th>4</th>\n",
       "      <td>5</td>\n",
       "      <td>15.0</td>\n",
       "      <td>101</td>\n",
       "      <td>45.0</td>\n",
       "      <td>2</td>\n",
       "      <td>NaN</td>\n",
       "      <td>2025-03-06 00:00:00</td>\n",
       "    </tr>\n",
       "  </tbody>\n",
       "</table>\n",
       "</div>"
      ],
      "text/plain": [
       "   transaction_id  customer_id product_id  employee_id quantity  total_amount  \\\n",
       "0               1         13.0        105          2.0        4          90.0   \n",
       "1               2         37.0        105         51.0        2          90.0   \n",
       "2               3          5.0       106a          NaN    three           NaN   \n",
       "3               4         35.0       109b         22.0    three          40.0   \n",
       "4               5         15.0        101         45.0        2           NaN   \n",
       "\n",
       "             sale_date  \n",
       "0  2025-03-03 00:00:00  \n",
       "1  2025-03-08 00:00:00  \n",
       "2  2025-03-01 00:00:00  \n",
       "3  2025-03-04 00:00:00  \n",
       "4  2025-03-06 00:00:00  "
      ]
     },
     "metadata": {},
     "output_type": "display_data"
    }
   ],
   "source": [
    "import sqlite3\n",
    "import pandas as pd\n",
    "\n",
    "# Setting up the database. DO NOT edit the code given below\n",
    "from techsmart_db_setup import setup_database\n",
    "setup_database() \n",
    "conn = sqlite3.connect('techsmart.db')\n",
    "\n",
    "# Load and display tables\n",
    "tables = ['Employee_Records', 'Product_Details', 'Customer_Demographics', 'Sales_Transactions']\n",
    "for table in tables:\n",
    "    query = f\"SELECT * FROM {table} LIMIT 5\"\n",
    "    df = pd.read_sql_query(query, conn)\n",
    "    print(f\"\\n{table}:\")\n",
    "    display(df)"
   ]
  },
  {
   "cell_type": "markdown",
   "id": "ac4fa77f",
   "metadata": {},
   "source": [
    "<b>Step 2:</b> Identify and handle missing values:"
   ]
  },
  {
   "cell_type": "code",
   "execution_count": 2,
   "id": "8853a3bd",
   "metadata": {},
   "outputs": [
    {
     "data": {
      "text/html": [
       "<div>\n",
       "<style scoped>\n",
       "    .dataframe tbody tr th:only-of-type {\n",
       "        vertical-align: middle;\n",
       "    }\n",
       "\n",
       "    .dataframe tbody tr th {\n",
       "        vertical-align: top;\n",
       "    }\n",
       "\n",
       "    .dataframe thead th {\n",
       "        text-align: right;\n",
       "    }\n",
       "</style>\n",
       "<table border=\"1\" class=\"dataframe\">\n",
       "  <thead>\n",
       "    <tr style=\"text-align: right;\">\n",
       "      <th></th>\n",
       "      <th>total_rows</th>\n",
       "      <th>missing_sales</th>\n",
       "    </tr>\n",
       "  </thead>\n",
       "  <tbody>\n",
       "    <tr>\n",
       "      <th>0</th>\n",
       "      <td>100</td>\n",
       "      <td>11</td>\n",
       "    </tr>\n",
       "  </tbody>\n",
       "</table>\n",
       "</div>"
      ],
      "text/plain": [
       "   total_rows  missing_sales\n",
       "0         100             11"
      ]
     },
     "metadata": {},
     "output_type": "display_data"
    }
   ],
   "source": [
    "# Example for Employee_Records\n",
    "query = \"\"\"\n",
    "SELECT COUNT(*) as total_rows,\n",
    "       SUM(CASE WHEN sales_performance IS NULL OR sales_performance = 'nan' THEN 1 ELSE 0 END) as missing_sales\n",
    "FROM Employee_Records\n",
    "\"\"\"\n",
    "df = pd.read_sql_query(query, conn)\n",
    "display(df)"
   ]
  },
  {
   "cell_type": "markdown",
   "id": "fdb41c55",
   "metadata": {},
   "source": [
    "<b>Step 3: Try it yourself: </b>Write queries to identify missing values in other tables"
   ]
  },
  {
   "cell_type": "code",
   "execution_count": null,
   "id": "b64e76db",
   "metadata": {},
   "outputs": [],
   "source": [
    "# Your turn: Write queries to identify missing values in other tables\n",
    "query = \"\"\"\n",
    "<YOUR CODE HERE>\n",
    "\"\"\"\n",
    "df = pd.read_sql_query(query, conn)\n",
    "display(df)"
   ]
  },
  {
   "cell_type": "markdown",
   "id": "b1baeb20",
   "metadata": {},
   "source": [
    "<b>Step 4:</b> Clean inconsistent data formats:"
   ]
  },
  {
   "cell_type": "code",
   "execution_count": 3,
   "id": "c80d8840",
   "metadata": {},
   "outputs": [],
   "source": [
    "# Example: Standardize sales_performance in Employee_Records\n",
    "query = \"\"\"\n",
    "UPDATE Employee_Records\n",
    "SET sales_performance = CASE\n",
    "    WHEN sales_performance = 'nan' THEN NULL\n",
    "    WHEN sales_performance = 'five thousand' THEN '5000'\n",
    "    ELSE sales_performance\n",
    "END\n",
    "\"\"\"\n",
    "cursor = conn.cursor()\n",
    "cursor.execute(query)\n",
    "conn.commit()"
   ]
  },
  {
   "cell_type": "markdown",
   "id": "46ed1b9b",
   "metadata": {},
   "source": [
    "**Step 5: Try it yourself:** Clean inconsistent data in other tables\n"
   ]
  },
  {
   "cell_type": "code",
   "execution_count": null,
   "id": "f6ceec47",
   "metadata": {},
   "outputs": [],
   "source": [
    "# Your turn: Clean inconsistent data in other tables\n",
    "query = \"\"\"\n",
    "<YOUR CODE HERE>\n",
    "\"\"\"\n",
    "df = pd.read_sql_query(query, conn)\n",
    "display(df)"
   ]
  },
  {
   "cell_type": "markdown",
   "id": "55ec48de",
   "metadata": {},
   "source": [
    "<b>💡 Tip:</b> Use CASE statements to handle multiple conditions when cleaning data."
   ]
  },
  {
   "cell_type": "markdown",
   "id": "7e05a94c",
   "metadata": {},
   "source": [
    "### Activity 2: Advanced Data Analysis  \n",
    "\n",
    "Now that our data is clean, let's perform some advanced analysis to gain insights into TechMart's operations."
   ]
  },
  {
   "cell_type": "markdown",
   "id": "bbcefffb",
   "metadata": {},
   "source": [
    "<b>Step 1:</b> Analyze employee performance by location:"
   ]
  },
  {
   "cell_type": "code",
   "execution_count": 4,
   "id": "8f4cb1ed",
   "metadata": {},
   "outputs": [
    {
     "data": {
      "text/html": [
       "<div>\n",
       "<style scoped>\n",
       "    .dataframe tbody tr th:only-of-type {\n",
       "        vertical-align: middle;\n",
       "    }\n",
       "\n",
       "    .dataframe tbody tr th {\n",
       "        vertical-align: top;\n",
       "    }\n",
       "\n",
       "    .dataframe thead th {\n",
       "        text-align: right;\n",
       "    }\n",
       "</style>\n",
       "<table border=\"1\" class=\"dataframe\">\n",
       "  <thead>\n",
       "    <tr style=\"text-align: right;\">\n",
       "      <th></th>\n",
       "      <th>store_location</th>\n",
       "      <th>avg_sales</th>\n",
       "      <th>employee_count</th>\n",
       "      <th>location_rank</th>\n",
       "    </tr>\n",
       "  </thead>\n",
       "  <tbody>\n",
       "    <tr>\n",
       "      <th>0</th>\n",
       "      <td>Chicago</td>\n",
       "      <td>3875.000000</td>\n",
       "      <td>8</td>\n",
       "      <td>1</td>\n",
       "    </tr>\n",
       "    <tr>\n",
       "      <th>1</th>\n",
       "      <td>Phoenix</td>\n",
       "      <td>3312.500000</td>\n",
       "      <td>16</td>\n",
       "      <td>2</td>\n",
       "    </tr>\n",
       "    <tr>\n",
       "      <th>2</th>\n",
       "      <td>London</td>\n",
       "      <td>3214.285714</td>\n",
       "      <td>14</td>\n",
       "      <td>3</td>\n",
       "    </tr>\n",
       "    <tr>\n",
       "      <th>3</th>\n",
       "      <td>New York</td>\n",
       "      <td>2823.529412</td>\n",
       "      <td>17</td>\n",
       "      <td>4</td>\n",
       "    </tr>\n",
       "    <tr>\n",
       "      <th>4</th>\n",
       "      <td>Los Angeles</td>\n",
       "      <td>2692.307692</td>\n",
       "      <td>13</td>\n",
       "      <td>5</td>\n",
       "    </tr>\n",
       "    <tr>\n",
       "      <th>5</th>\n",
       "      <td>Paris</td>\n",
       "      <td>2600.000000</td>\n",
       "      <td>10</td>\n",
       "      <td>6</td>\n",
       "    </tr>\n",
       "    <tr>\n",
       "      <th>6</th>\n",
       "      <td>Houston</td>\n",
       "      <td>2363.636364</td>\n",
       "      <td>11</td>\n",
       "      <td>7</td>\n",
       "    </tr>\n",
       "  </tbody>\n",
       "</table>\n",
       "</div>"
      ],
      "text/plain": [
       "  store_location    avg_sales  employee_count  location_rank\n",
       "0        Chicago  3875.000000               8              1\n",
       "1        Phoenix  3312.500000              16              2\n",
       "2         London  3214.285714              14              3\n",
       "3       New York  2823.529412              17              4\n",
       "4    Los Angeles  2692.307692              13              5\n",
       "5          Paris  2600.000000              10              6\n",
       "6        Houston  2363.636364              11              7"
      ]
     },
     "metadata": {},
     "output_type": "display_data"
    }
   ],
   "source": [
    "query = \"\"\"\n",
    "WITH emp_sales AS (\n",
    "    SELECT store_location, \n",
    "           AVG(CAST(sales_performance AS FLOAT)) as avg_sales,\n",
    "           COUNT(*) as employee_count\n",
    "    FROM Employee_Records\n",
    "    WHERE sales_performance IS NOT NULL\n",
    "    GROUP BY store_location\n",
    ")\n",
    "SELECT store_location, avg_sales, employee_count,\n",
    "       RANK() OVER (ORDER BY avg_sales DESC) as location_rank\n",
    "FROM emp_sales\n",
    "ORDER BY avg_sales DESC\n",
    "\"\"\"\n",
    "df = pd.read_sql_query(query, conn)\n",
    "display(df)"
   ]
  },
  {
   "cell_type": "markdown",
   "id": "a6c17710",
   "metadata": {},
   "source": [
    "<b>Step 2:</b> Identify top-selling products by category:"
   ]
  },
  {
   "cell_type": "code",
   "execution_count": 5,
   "id": "d7bf9e46",
   "metadata": {},
   "outputs": [
    {
     "data": {
      "text/html": [
       "<div>\n",
       "<style scoped>\n",
       "    .dataframe tbody tr th:only-of-type {\n",
       "        vertical-align: middle;\n",
       "    }\n",
       "\n",
       "    .dataframe tbody tr th {\n",
       "        vertical-align: top;\n",
       "    }\n",
       "\n",
       "    .dataframe thead th {\n",
       "        text-align: right;\n",
       "    }\n",
       "</style>\n",
       "<table border=\"1\" class=\"dataframe\">\n",
       "  <thead>\n",
       "    <tr style=\"text-align: right;\">\n",
       "      <th></th>\n",
       "      <th>category</th>\n",
       "      <th>product_name</th>\n",
       "      <th>total_sold</th>\n",
       "      <th>rank_in_category</th>\n",
       "    </tr>\n",
       "  </thead>\n",
       "  <tbody>\n",
       "    <tr>\n",
       "      <th>0</th>\n",
       "      <td>Accessories</td>\n",
       "      <td>Keyboard</td>\n",
       "      <td>156.0</td>\n",
       "      <td>1</td>\n",
       "    </tr>\n",
       "    <tr>\n",
       "      <th>1</th>\n",
       "      <td>Accessories</td>\n",
       "      <td>Charger</td>\n",
       "      <td>123.0</td>\n",
       "      <td>2</td>\n",
       "    </tr>\n",
       "    <tr>\n",
       "      <th>2</th>\n",
       "      <td>Accessories</td>\n",
       "      <td>Speaker</td>\n",
       "      <td>85.0</td>\n",
       "      <td>3</td>\n",
       "    </tr>\n",
       "    <tr>\n",
       "      <th>3</th>\n",
       "      <td>Electronics</td>\n",
       "      <td>Tablet</td>\n",
       "      <td>134.0</td>\n",
       "      <td>1</td>\n",
       "    </tr>\n",
       "    <tr>\n",
       "      <th>4</th>\n",
       "      <td>Electronics</td>\n",
       "      <td>Mouse</td>\n",
       "      <td>129.0</td>\n",
       "      <td>2</td>\n",
       "    </tr>\n",
       "    <tr>\n",
       "      <th>5</th>\n",
       "      <td>Electronics</td>\n",
       "      <td>Headphones</td>\n",
       "      <td>110.0</td>\n",
       "      <td>3</td>\n",
       "    </tr>\n",
       "  </tbody>\n",
       "</table>\n",
       "</div>"
      ],
      "text/plain": [
       "      category product_name  total_sold  rank_in_category\n",
       "0  Accessories     Keyboard       156.0                 1\n",
       "1  Accessories      Charger       123.0                 2\n",
       "2  Accessories      Speaker        85.0                 3\n",
       "3  Electronics       Tablet       134.0                 1\n",
       "4  Electronics        Mouse       129.0                 2\n",
       "5  Electronics   Headphones       110.0                 3"
      ]
     },
     "metadata": {},
     "output_type": "display_data"
    }
   ],
   "source": [
    "query = \"\"\"\n",
    "SELECT *\n",
    "FROM (\n",
    "    SELECT p.category,\n",
    "           p.product_name,\n",
    "           SUM(s.quantity) AS total_sold,\n",
    "           RANK() OVER (\n",
    "               PARTITION BY p.category\n",
    "               ORDER BY SUM(s.quantity) DESC\n",
    "           ) AS rank_in_category\n",
    "    FROM Sales_Transactions s\n",
    "    JOIN Product_Details p ON s.product_id = p.product_id\n",
    "    GROUP BY p.category, p.product_name\n",
    ")\n",
    "WHERE rank_in_category <= 3\n",
    "ORDER BY category, total_sold DESC\n",
    "\"\"\"\n",
    "df = pd.read_sql_query(query, conn)\n",
    "display(df)"
   ]
  },
  {
   "cell_type": "markdown",
   "id": "70c78cd6",
   "metadata": {},
   "source": [
    " <b>Step 3: Try it yourself</b>  Analyze customer purchasing behavior:"
   ]
  },
  {
   "cell_type": "code",
   "execution_count": null,
   "id": "b0536458",
   "metadata": {},
   "outputs": [],
   "source": [
    "# Your turn: Write a query to analyze customer purchasing behavior\n",
    "# Hint: Join Customer_Demographics with Sales_Transactions and use window functions\n",
    "\n",
    "query = \"\"\"\n",
    "<YOUR CODE HERE>\n",
    "\"\"\"\n",
    "df = pd.read_sql_query(query, conn)\n",
    "display(df)"
   ]
  },
  {
   "cell_type": "markdown",
   "id": "2322c371",
   "metadata": {},
   "source": [
    "### Activity 3: Performance Optimization \n",
    "As our dataset grows, query performance becomes crucial. Let's optimize some of our complex queries. The below query analyzes sales performance for Electronics and Accessories by summarizing transactions per employee, store, and customer loyalty status, while also computing total revenue per store-category pair for ranking and comparison.\n"
   ]
  },
  {
   "cell_type": "markdown",
   "id": "7749f1f9",
   "metadata": {},
   "source": [
    "<b>Step 1:</b> Identify slow-running queries:"
   ]
  },
  {
   "cell_type": "code",
   "execution_count": null,
   "id": "45cbbdad",
   "metadata": {
    "scrolled": true
   },
   "outputs": [],
   "source": [
    "# Example: Time a complex query\n",
    "import time\n",
    "\n",
    "start_time = time.time()\n",
    "query = \"\"\"\n",
    "WITH StoreSales AS (\n",
    "   SELECT\n",
    "       e.store_location,\n",
    "       e.employee_id,\n",
    "       e.role,\n",
    "       p.category,\n",
    "       c.loyalty_program,\n",
    "       COUNT(s.transaction_id) AS total_sales,\n",
    "       SUM(s.quantity) AS total_units_sold,\n",
    "       SUM(s.total_amount) AS total_revenue\n",
    "   FROM Sales_Transactions s\n",
    "   JOIN Employee_Records e ON s.employee_id = e.employee_id\n",
    "   JOIN Product_Details p ON s.product_id = p.product_id\n",
    "   JOIN Customer_Demographics c ON s.customer_id = c.customer_id\n",
    "   WHERE p.category IN ('Electronics', 'Accessories')\n",
    "   GROUP BY e.store_location, e.employee_id, e.role, p.category, c.loyalty_program\n",
    "),\n",
    "\n",
    "StoreRankings AS (\n",
    "   SELECT\n",
    "       store_location,\n",
    "       category,\n",
    "       SUM(total_revenue) AS store_revenue\n",
    "   FROM StoreSales\n",
    "   GROUP BY store_location, category\n",
    ")\n",
    "\n",
    "SELECT\n",
    "   ss.store_location,\n",
    "   ss.employee_id,\n",
    "   ss.role,\n",
    "   ss.category,\n",
    "   ss.loyalty_program,\n",
    "   ss.total_sales,\n",
    "   ss.total_units_sold,\n",
    "   ss.total_revenue\n",
    "FROM StoreSales ss\n",
    "JOIN StoreRankings sr ON ss.store_location = sr.store_location AND ss.category = sr.category\n",
    "ORDER BY ss.store_location, ss.total_revenue DESC;\n",
    "\n",
    "\"\"\"\n",
    "\n",
    "\n",
    "df = pd.read_sql_query(query, conn)\n",
    "end_time = time.time()\n",
    "print(f\"Query execution time: {end_time - start_time} seconds\")"
   ]
  },
  {
   "cell_type": "markdown",
   "id": "d1a94029",
   "metadata": {},
   "source": [
    "<b>Step 2:</b> Add an index to optimize your query:"
   ]
  },
  {
   "cell_type": "code",
   "execution_count": null,
   "id": "4a92e5d3",
   "metadata": {},
   "outputs": [],
   "source": [
    "# Create an index\n",
    "cursor.execute(\"CREATE INDEX idx_product_category ON Product_Details(category)\")\n",
    "conn.commit()"
   ]
  },
  {
   "cell_type": "markdown",
   "id": "a8a5ab9a",
   "metadata": {},
   "source": [
    "<b>Step 3:</b> Use an AI to further optimize your query:"
   ]
  },
  {
   "cell_type": "markdown",
   "id": "5dc7e3eb",
   "metadata": {
    "scrolled": true
   },
   "source": [
    "Using an AI of your choice, further optimize your query then paste your updated query into the cell in Step 4.\n"
   ]
  },
  {
   "cell_type": "markdown",
   "id": "45570cd0",
   "metadata": {},
   "source": [
    "**Step 4: Try it yourself:** Re-run your query and compare execution time"
   ]
  },
  {
   "cell_type": "code",
   "execution_count": null,
   "id": "7ca5db01",
   "metadata": {},
   "outputs": [],
   "source": [
    "# Your Turn: Run your optimized query and compare execution time\n",
    "\n",
    "start_time = time.time()\n",
    "query = \"\"\"\n",
    "<YOUR CODE HERE>\n",
    "\"\"\"\n",
    "\n",
    "df = pd.read_sql_query(query, conn)\n",
    "end_time = time.time()\n",
    "print(f\"Query execution time: {end_time - start_time} seconds\")"
   ]
  },
  {
   "cell_type": "markdown",
   "id": "f332d6ef",
   "metadata": {},
   "source": [
    "<b>💡 Tip:</b> Indexes can significantly improve query performance, but they also have overhead. Use them judiciously."
   ]
  },
  {
   "cell_type": "markdown",
   "id": "bc90000d",
   "metadata": {},
   "source": [
    "### Activity 4: Generating the Analysis Report  \n",
    "\n",
    "Now that we've performed our analysis, it's time to compile our findings into a comprehensive report.\n",
    "\n",
    "<b>Step 1:</b> Summarize key findings:\n",
    "- List the top 3 insights from your analysis\n",
    "- Provide supporting data for each insight\n",
    "\n",
    "<b>Step 2:</b> Include SQL queries:\n",
    "- For each key insight, provide the SQL query used\n",
    "\n",
    "<b>Step 3:</b> Document your process:\n",
    "- Explain your data cleaning steps\n",
    "- Describe any challenges you encountered and how you overcame them\n",
    "- Discuss potential areas for further analysis"
   ]
  },
  {
   "cell_type": "markdown",
   "id": "968e05dd",
   "metadata": {},
   "source": [
    "#### Close the Connection\n",
    "It's good practice to close the database connection when you're done"
   ]
  },
  {
   "cell_type": "code",
   "execution_count": null,
   "id": "825c45da",
   "metadata": {},
   "outputs": [],
   "source": [
    "# Close the database connection \n",
    "conn.close()"
   ]
  },
  {
   "cell_type": "markdown",
   "id": "051945f2",
   "metadata": {},
   "source": [
    "## ✅ Success Checklist\n",
    "- Cleaned and prepared all dataset tables\n",
    "- Performed at least 3 advanced SQL queries using subqueries, CTEs, or window functions\n",
    "- Optimized at least one complex query for better performance\n",
    "- Compiled a comprehensive analysis report with key insights and supporting data\n",
    "- Program runs without errors\n",
    "\n",
    "## 🔍 Common Issues & Solutions \n",
    "\n",
    "- Problem: Query returns no results \n",
    "    - Solution: Double-check table and column names, and ensure your JOIN conditions are correct\n",
    "- Problem: Error \"no such table\" \n",
    "     - Solution: Verify that you're connected to the correct database and that the table name is spelled correctly\n",
    "\n",
    "## ➡️ Summary\n",
    "In this comprehensive lab, you've applied advanced SQL concepts to analyze TechMart's retail operations data, working with multiple related tables covering employee records, product details, customer demographics, and sales transactions. You've gained hands-on experience in data cleaning, writing complex queries using subqueries, CTEs, and window functions, and optimizing query performance through indexing. Through this real-world simulation, you've developed the practical skills needed to conduct thorough data analysis and create well-documented reports, preparing you for actual data science roles.\n",
    "\n",
    "\n",
    "### 🔑 Key Points\n",
    "- Data cleaning is crucial for accurate analysis\n",
    "- Advanced SQL techniques like CTEs and window functions enable complex analysis\n",
    "- Query optimization is essential for working with large datasets\n",
    "- Effective reporting is key to communicating insights"
   ]
  }
 ],
 "metadata": {
  "kernelspec": {
   "display_name": "Python 3 (ipykernel)",
   "language": "python",
   "name": "python3"
  },
  "language_info": {
   "codemirror_mode": {
    "name": "ipython",
    "version": 3
   },
   "file_extension": ".py",
   "mimetype": "text/x-python",
   "name": "python",
   "nbconvert_exporter": "python",
   "pygments_lexer": "ipython3",
   "version": "3.10.6"
  }
 },
 "nbformat": 4,
 "nbformat_minor": 5
}
